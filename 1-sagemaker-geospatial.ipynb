{
 "cells": [
  {
   "cell_type": "markdown",
   "id": "99ac366a-5364-4970-a5b2-140812ba6a24",
   "metadata": {
    "tags": []
   },
   "source": [
    "# AWS Summit Tel Aviv 2023 - Amazon SageMaker Geospatial Capabilities\n",
    "## Turkey-Syria 2023 Earthquake Demo\n",
    "\n",
    "Shimron Schiff, Solutions Architect, AWS; Boaz Horev, Sr. Solutions Architect, AWS"
   ]
  },
  {
   "cell_type": "markdown",
   "id": "27d99694-4f27-45e6-9841-6e33c3c86ff9",
   "metadata": {
    "tags": []
   },
   "source": [
    "<img src='images/earthquake-graphics.png' width=600 alt='Earthquakes Area' title='Earthquakes Area' />"
   ]
  },
  {
   "cell_type": "code",
   "execution_count": 3,
   "id": "92eaddd2-b862-4599-879a-922355918f0c",
   "metadata": {
    "tags": []
   },
   "outputs": [],
   "source": [
    "import pandas as pd\n",
    "from shapely.geometry import Polygon, Point\n",
    "import geopandas as gpd\n",
    "import leafmap.foliumap as leafmap\n",
    "import boto3\n",
    "import sagemaker\n",
    "import sagemaker_geospatial_map"
   ]
  },
  {
   "cell_type": "code",
   "execution_count": 5,
   "id": "ea1a5cb7-ef38-4d1a-9b8b-417e2cd8f1e6",
   "metadata": {
    "tags": []
   },
   "outputs": [],
   "source": [
    "session = boto3.Session()\n",
    "execution_role = sagemaker.get_execution_role()\n",
    "sg_client = session.client(service_name=\"sagemaker-geospatial\")"
   ]
  },
  {
   "cell_type": "code",
   "execution_count": 6,
   "id": "24b9305f-e7c8-4975-a531-0c664dfff9ef",
   "metadata": {
    "tags": []
   },
   "outputs": [
    {
     "data": {
      "application/vnd.jupyter.widget-view+json": {
       "model_id": "6d754c6c3a814ebdbe2757ecba3a346d",
       "version_major": 2,
       "version_minor": 0
      },
      "text/plain": [
       "SyncWidgetMap(style={'height': '100%', 'width': '100%'}, urls={'staticAssetUrlBase': 'https://d22zkd5i0te8j2.c…"
      ]
     },
     "metadata": {},
     "output_type": "display_data"
    }
   ],
   "source": [
    "earthquakes_map = sagemaker_geospatial_map.create_map()\n",
    "earthquakes_map.set_sagemaker_geospatial_client(sg_client)\n",
    "earthquakes_map.render()"
   ]
  },
  {
   "cell_type": "code",
   "execution_count": 7,
   "id": "d4f5b0ad-6195-482e-a987-8e0371e5c48c",
   "metadata": {
    "tags": []
   },
   "outputs": [],
   "source": [
    "from scripts.turkey_earthquakes import visualize_turkey_earthquakes\n",
    "visualize_turkey_earthquakes(earthquakes_map)"
   ]
  },
  {
   "cell_type": "markdown",
   "id": "65f714b1-4294-465d-a9a2-bdcd553e3217",
   "metadata": {},
   "source": [
    "## Data Collection\n",
    "Obtain relevant images from a data collection"
   ]
  },
  {
   "cell_type": "code",
   "execution_count": 8,
   "id": "55e15a21-2f72-445f-9453-5ec49a88d493",
   "metadata": {
    "tags": []
   },
   "outputs": [
    {
     "data": {
      "text/html": [
       "<style type=\"text/css\">\n",
       "#T_7229c_row0_col0, #T_7229c_row0_col1, #T_7229c_row0_col2, #T_7229c_row1_col0, #T_7229c_row1_col1, #T_7229c_row1_col2, #T_7229c_row2_col0, #T_7229c_row2_col1, #T_7229c_row2_col2, #T_7229c_row3_col0, #T_7229c_row3_col1, #T_7229c_row3_col2 {\n",
       "  text-align: left;\n",
       "}\n",
       "</style>\n",
       "<table id=\"T_7229c\">\n",
       "  <thead>\n",
       "    <tr>\n",
       "      <th class=\"blank level0\" >&nbsp;</th>\n",
       "      <th id=\"T_7229c_level0_col0\" class=\"col_heading level0 col0\" >Name</th>\n",
       "      <th id=\"T_7229c_level0_col1\" class=\"col_heading level0 col1\" >Arn</th>\n",
       "      <th id=\"T_7229c_level0_col2\" class=\"col_heading level0 col2\" >Description</th>\n",
       "    </tr>\n",
       "  </thead>\n",
       "  <tbody>\n",
       "    <tr>\n",
       "      <th id=\"T_7229c_level0_row0\" class=\"row_heading level0 row0\" >0</th>\n",
       "      <td id=\"T_7229c_row0_col0\" class=\"data row0 col0\" >Copernicus DEM</td>\n",
       "      <td id=\"T_7229c_row0_col1\" class=\"data row0 col1\" >arn:aws:sagemaker-geospatial:us-west-2:378778860802:raster-data-collection/public/dxxbpqwvu9041ny8</td>\n",
       "      <td id=\"T_7229c_row0_col2\" class=\"data row0 col2\" >Copernicus DEM is a Digitial Surface Model which represents the surface of the Earth including buildings, infrastructure, and vegetation.,</td>\n",
       "    </tr>\n",
       "    <tr>\n",
       "      <th id=\"T_7229c_level0_row1\" class=\"row_heading level0 row1\" >1</th>\n",
       "      <td id=\"T_7229c_row1_col0\" class=\"data row1 col0\" >Landsat Collection 2 Level-2 Science Products</td>\n",
       "      <td id=\"T_7229c_row1_col1\" class=\"data row1 col1\" >arn:aws:sagemaker-geospatial:us-west-2:378778860802:raster-data-collection/public/gmqa64dcu2g9ayx1</td>\n",
       "      <td id=\"T_7229c_row1_col2\" class=\"data row1 col2\" >Landsat Collection 2 includes scene-based global Level-2 surface reflectance and surface temperature science products.,</td>\n",
       "    </tr>\n",
       "    <tr>\n",
       "      <th id=\"T_7229c_level0_row2\" class=\"row_heading level0 row2\" >2</th>\n",
       "      <td id=\"T_7229c_row2_col0\" class=\"data row2 col0\" >National Agriculture Imagery Program</td>\n",
       "      <td id=\"T_7229c_row2_col1\" class=\"data row2 col1\" >arn:aws:sagemaker-geospatial:us-west-2:378778860802:raster-data-collection/public/37ndema229vwa987</td>\n",
       "      <td id=\"T_7229c_row2_col2\" class=\"data row2 col2\" >National Agriculture Imagery Program acquires aerial imagery during the agricultural growing seasons in the continental U.S.,</td>\n",
       "    </tr>\n",
       "    <tr>\n",
       "      <th id=\"T_7229c_level0_row3\" class=\"row_heading level0 row3\" >3</th>\n",
       "      <td id=\"T_7229c_row3_col0\" class=\"data row3 col0\" >Sentinel 2 L2A COGs</td>\n",
       "      <td id=\"T_7229c_row3_col1\" class=\"data row3 col1\" >arn:aws:sagemaker-geospatial:us-west-2:378778860802:raster-data-collection/public/nmqj48dcu3g7ayw8</td>\n",
       "      <td id=\"T_7229c_row3_col2\" class=\"data row3 col2\" >Sentinel-2a and Sentinel-2b imagery, processed to Level 2A (Surface Reflectance) and converted to Cloud-Optimized GeoTIFFs</td>\n",
       "    </tr>\n",
       "  </tbody>\n",
       "</table>\n"
      ],
      "text/plain": [
       "<pandas.io.formats.style.Styler at 0x7fa63fb73850>"
      ]
     },
     "execution_count": 8,
     "metadata": {},
     "output_type": "execute_result"
    }
   ],
   "source": [
    "# List available data collections as part of the SageMaker Geospacial capabilities\n",
    "supported_raster_data_collection = sg_client.list_raster_data_collections()\n",
    "pd.DataFrame.from_dict(supported_raster_data_collection['RasterDataCollectionSummaries']) \\\n",
    "    [['Name', 'Arn', 'Description']].style.set_properties(**{'text-align': 'left'})"
   ]
  },
  {
   "cell_type": "markdown",
   "id": "5014be71-c6c8-4be9-af97-63eb026ae943",
   "metadata": {},
   "source": [
    "## Area of Interest (AOI)"
   ]
  },
  {
   "cell_type": "code",
   "execution_count": 9,
   "id": "01458d87-341b-4abc-ba4d-113bdcd7c348",
   "metadata": {
    "tags": []
   },
   "outputs": [],
   "source": [
    "# Time Range\n",
    "startTime = \"2023-01-27T00:00:00Z\"\n",
    "startTimeEOD = \"2023-01-27T23:59:59Z\"\n",
    "endTimeSOD = \"2023-02-09T00:00:00Z\"\n",
    "endTime = \"2023-02-09T23:59:59Z\""
   ]
  },
  {
   "cell_type": "code",
   "execution_count": 10,
   "id": "a0f93755-02aa-47b9-90fb-4514befcc920",
   "metadata": {
    "tags": []
   },
   "outputs": [
    {
     "name": "stdout",
     "output_type": "stream",
     "text": [
      "POLYGON ((36.226 36.014, 36.226 38.014, 38.226 38.014, 38.226 36.014, 36.226 36.014))\n"
     ]
    }
   ],
   "source": [
    "# Define the center point - 37.226°N 37.014°E\n",
    "center_point = Point(37.226, 37.014)\n",
    "\n",
    "# Calculate square corners coordinates\n",
    "side_length = 2\n",
    "half_side = side_length / 2\n",
    "xmin = center_point.x - half_side\n",
    "xmax = center_point.x + half_side\n",
    "ymin = center_point.y - half_side\n",
    "ymax = center_point.y + half_side\n",
    "\n",
    "# Area of Interest\n",
    "aoi = Polygon([Point(xmin,ymin), Point(xmin, ymax), Point(xmax,ymax),  Point(xmax,ymin)])\n",
    "print(aoi)"
   ]
  },
  {
   "cell_type": "code",
   "execution_count": 11,
   "id": "663cf57b-0633-4cd2-97cc-c3840b925e82",
   "metadata": {
    "tags": []
   },
   "outputs": [],
   "source": [
    "# Save to file\n",
    "s = gpd.GeoSeries(aoi.boundary, crs=\"EPSG:4326\")\n",
    "polygon_gdf = gpd.GeoDataFrame(index=[0],crs='epsg:4326', geometry=s)\n",
    "polygon_gdf.to_file(filename='output/polygon.geojson', driver='GeoJSON')"
   ]
  },
  {
   "cell_type": "code",
   "execution_count": 12,
   "id": "6308eac1-1da0-4d11-9e6c-8da0c0fb2666",
   "metadata": {
    "tags": []
   },
   "outputs": [
    {
     "data": {
      "text/html": [
       "<iframe srcdoc=\"&lt;!DOCTYPE html&gt;\n",
       "&lt;html&gt;\n",
       "&lt;head&gt;\n",
       "    \n",
       "    &lt;meta http-equiv=&quot;content-type&quot; content=&quot;text/html; charset=UTF-8&quot; /&gt;\n",
       "    \n",
       "        &lt;script&gt;\n",
       "            L_NO_TOUCH = false;\n",
       "            L_DISABLE_3D = false;\n",
       "        &lt;/script&gt;\n",
       "    \n",
       "    &lt;style&gt;html, body {width: 100%;height: 100%;margin: 0;padding: 0;}&lt;/style&gt;\n",
       "    &lt;style&gt;#map {position:absolute;top:0;bottom:0;right:0;left:0;}&lt;/style&gt;\n",
       "    &lt;script src=&quot;https://cdn.jsdelivr.net/npm/leaflet@1.6.0/dist/leaflet.js&quot;&gt;&lt;/script&gt;\n",
       "    &lt;script src=&quot;https://code.jquery.com/jquery-1.12.4.min.js&quot;&gt;&lt;/script&gt;\n",
       "    &lt;script src=&quot;https://maxcdn.bootstrapcdn.com/bootstrap/3.2.0/js/bootstrap.min.js&quot;&gt;&lt;/script&gt;\n",
       "    &lt;script src=&quot;https://cdnjs.cloudflare.com/ajax/libs/Leaflet.awesome-markers/2.0.2/leaflet.awesome-markers.js&quot;&gt;&lt;/script&gt;\n",
       "    &lt;link rel=&quot;stylesheet&quot; href=&quot;https://cdn.jsdelivr.net/npm/leaflet@1.6.0/dist/leaflet.css&quot;/&gt;\n",
       "    &lt;link rel=&quot;stylesheet&quot; href=&quot;https://maxcdn.bootstrapcdn.com/bootstrap/3.2.0/css/bootstrap.min.css&quot;/&gt;\n",
       "    &lt;link rel=&quot;stylesheet&quot; href=&quot;https://maxcdn.bootstrapcdn.com/bootstrap/3.2.0/css/bootstrap-theme.min.css&quot;/&gt;\n",
       "    &lt;link rel=&quot;stylesheet&quot; href=&quot;https://maxcdn.bootstrapcdn.com/font-awesome/4.6.3/css/font-awesome.min.css&quot;/&gt;\n",
       "    &lt;link rel=&quot;stylesheet&quot; href=&quot;https://cdnjs.cloudflare.com/ajax/libs/Leaflet.awesome-markers/2.0.2/leaflet.awesome-markers.css&quot;/&gt;\n",
       "    &lt;link rel=&quot;stylesheet&quot; href=&quot;https://cdn.jsdelivr.net/gh/python-visualization/folium/folium/templates/leaflet.awesome.rotate.min.css&quot;/&gt;\n",
       "    \n",
       "            &lt;meta name=&quot;viewport&quot; content=&quot;width=device-width,\n",
       "                initial-scale=1.0, maximum-scale=1.0, user-scalable=no&quot; /&gt;\n",
       "            &lt;style&gt;\n",
       "                #map_87dbcf18772ebf01078e3cfea3cde235 {\n",
       "                    position: relative;\n",
       "                    width: 100.0%;\n",
       "                    height: 100.0%;\n",
       "                    left: 0.0%;\n",
       "                    top: 0.0%;\n",
       "                }\n",
       "            &lt;/style&gt;\n",
       "        \n",
       "    &lt;script src=&quot;https://cdnjs.cloudflare.com/ajax/libs/leaflet.fullscreen/1.4.2/Control.FullScreen.min.js&quot;&gt;&lt;/script&gt;\n",
       "    &lt;link rel=&quot;stylesheet&quot; href=&quot;https://cdnjs.cloudflare.com/ajax/libs/leaflet.fullscreen/1.4.2/Control.FullScreen.min.css&quot;/&gt;\n",
       "    &lt;script src=&quot;https://cdnjs.cloudflare.com/ajax/libs/leaflet.draw/1.0.2/leaflet.draw.js&quot;&gt;&lt;/script&gt;\n",
       "    &lt;link rel=&quot;stylesheet&quot; href=&quot;https://cdnjs.cloudflare.com/ajax/libs/leaflet.draw/1.0.2/leaflet.draw.css&quot;/&gt;\n",
       "    &lt;script src=&quot;https://cdn.jsdelivr.net/gh/ljagis/leaflet-measure@2.1.7/dist/leaflet-measure.min.js&quot;&gt;&lt;/script&gt;\n",
       "    &lt;link rel=&quot;stylesheet&quot; href=&quot;https://cdn.jsdelivr.net/gh/ljagis/leaflet-measure@2.1.7/dist/leaflet-measure.min.css&quot;/&gt;\n",
       "    &lt;script src=&quot;https://unpkg.com/leaflet-control-geocoder/dist/Control.Geocoder.js&quot;&gt;&lt;/script&gt;\n",
       "    &lt;link rel=&quot;stylesheet&quot; href=&quot;https://unpkg.com/leaflet-control-geocoder/dist/Control.Geocoder.css&quot;/&gt;\n",
       "    \n",
       "                    &lt;style&gt;\n",
       "                        .foliumtooltip {\n",
       "                            \n",
       "                        }\n",
       "                       .foliumtooltip table{\n",
       "                            margin: auto;\n",
       "                        }\n",
       "                        .foliumtooltip tr{\n",
       "                            text-align: left;\n",
       "                        }\n",
       "                        .foliumtooltip th{\n",
       "                            padding: 2px; padding-right: 8px;\n",
       "                        }\n",
       "                    &lt;/style&gt;\n",
       "            \n",
       "&lt;/head&gt;\n",
       "&lt;body&gt;\n",
       "    \n",
       "    \n",
       "            &lt;div class=&quot;folium-map&quot; id=&quot;map_87dbcf18772ebf01078e3cfea3cde235&quot; &gt;&lt;/div&gt;\n",
       "        \n",
       "&lt;/body&gt;\n",
       "&lt;script&gt;\n",
       "    \n",
       "    \n",
       "            var map_87dbcf18772ebf01078e3cfea3cde235 = L.map(\n",
       "                &quot;map_87dbcf18772ebf01078e3cfea3cde235&quot;,\n",
       "                {\n",
       "                    center: [36.844461, 37.386475],\n",
       "                    crs: L.CRS.EPSG3857,\n",
       "                    zoom: 8,\n",
       "                    zoomControl: true,\n",
       "                    preferCanvas: false,\n",
       "                    drawExport: false,\n",
       "                    layersControl: true,\n",
       "                }\n",
       "            );\n",
       "            L.control.scale().addTo(map_87dbcf18772ebf01078e3cfea3cde235);\n",
       "\n",
       "            \n",
       "\n",
       "        \n",
       "    \n",
       "            var tile_layer_816162f0a9d26c5c409fc0e47813064b = L.tileLayer(\n",
       "                &quot;https://{s}.tile.openstreetmap.org/{z}/{x}/{y}.png&quot;,\n",
       "                {&quot;attribution&quot;: &quot;Data by \\u0026copy; \\u003ca href=\\&quot;http://openstreetmap.org\\&quot;\\u003eOpenStreetMap\\u003c/a\\u003e, under \\u003ca href=\\&quot;http://www.openstreetmap.org/copyright\\&quot;\\u003eODbL\\u003c/a\\u003e.&quot;, &quot;detectRetina&quot;: false, &quot;maxNativeZoom&quot;: 24, &quot;maxZoom&quot;: 24, &quot;minZoom&quot;: 0, &quot;noWrap&quot;: false, &quot;opacity&quot;: 1, &quot;subdomains&quot;: &quot;abc&quot;, &quot;tms&quot;: false}\n",
       "            ).addTo(map_87dbcf18772ebf01078e3cfea3cde235);\n",
       "        \n",
       "    \n",
       "            L.control.fullscreen(\n",
       "                {&quot;forceSeparateButton&quot;: false, &quot;position&quot;: &quot;topleft&quot;, &quot;title&quot;: &quot;Full Screen&quot;, &quot;titleCancel&quot;: &quot;Exit Full Screen&quot;}\n",
       "            ).addTo(map_87dbcf18772ebf01078e3cfea3cde235);\n",
       "        \n",
       "    \n",
       "            var options = {\n",
       "              position: &quot;topleft&quot;,\n",
       "              draw: {},\n",
       "              edit: {},\n",
       "            }\n",
       "            // FeatureGroup is to store editable layers.\n",
       "            var drawnItems = new L.featureGroup().addTo(\n",
       "                map_87dbcf18772ebf01078e3cfea3cde235\n",
       "            );\n",
       "            options.edit.featureGroup = drawnItems;\n",
       "            var draw_control_752c8562554471434a5778f7add380d1 = new L.Control.Draw(\n",
       "                options\n",
       "            ).addTo( map_87dbcf18772ebf01078e3cfea3cde235 );\n",
       "            map_87dbcf18772ebf01078e3cfea3cde235.on(L.Draw.Event.CREATED, function(e) {\n",
       "                var layer = e.layer,\n",
       "                    type = e.layerType;\n",
       "                var coords = JSON.stringify(layer.toGeoJSON());\n",
       "                layer.on(&#x27;click&#x27;, function() {\n",
       "                    alert(coords);\n",
       "                    console.log(coords);\n",
       "                });\n",
       "                drawnItems.addLayer(layer);\n",
       "             });\n",
       "            map_87dbcf18772ebf01078e3cfea3cde235.on(&#x27;draw:created&#x27;, function(e) {\n",
       "                drawnItems.addLayer(e.layer);\n",
       "            });\n",
       "            \n",
       "        \n",
       "    \n",
       "            var measure_control_d592d5daae5dbebf45ce71025fda2ccf = new L.Control.Measure(\n",
       "                {&quot;position&quot;: &quot;bottomleft&quot;, &quot;primaryAreaUnit&quot;: &quot;sqmeters&quot;, &quot;primaryLengthUnit&quot;: &quot;meters&quot;, &quot;secondaryAreaUnit&quot;: &quot;acres&quot;, &quot;secondaryLengthUnit&quot;: &quot;miles&quot;});\n",
       "            map_87dbcf18772ebf01078e3cfea3cde235.addControl(measure_control_d592d5daae5dbebf45ce71025fda2ccf);\n",
       "\n",
       "        \n",
       "    \n",
       "            L.Control.geocoder(\n",
       "                {&quot;collapsed&quot;: true, &quot;defaultMarkGeocode&quot;: true, &quot;position&quot;: &quot;topleft&quot;}\n",
       "            ).on(&#x27;markgeocode&#x27;, function(e) {\n",
       "                map_87dbcf18772ebf01078e3cfea3cde235.setView(e.geocode.center, 11);\n",
       "            }).addTo(map_87dbcf18772ebf01078e3cfea3cde235);\n",
       "\n",
       "        \n",
       "    \n",
       "            map_87dbcf18772ebf01078e3cfea3cde235.fitBounds(\n",
       "                [[36.844461, 37.386475], [36.844461, 37.386475]],\n",
       "                {&quot;maxZoom&quot;: 8}\n",
       "            );\n",
       "        \n",
       "    \n",
       "        function geo_json_e31bcc242f1bfa1016e106a0684f2318_styler(feature) {\n",
       "            switch(feature.id) {\n",
       "                default:\n",
       "                    return {&quot;color&quot;: &quot;#3388ff&quot;, &quot;fillOpacity&quot;: 0, &quot;opacity&quot;: 1, &quot;weight&quot;: 2};\n",
       "            }\n",
       "        }\n",
       "        function geo_json_e31bcc242f1bfa1016e106a0684f2318_highlighter(feature) {\n",
       "            switch(feature.id) {\n",
       "                default:\n",
       "                    return {&quot;fillOpacity&quot;: 0, &quot;weight&quot;: 4};\n",
       "            }\n",
       "        }\n",
       "\n",
       "        function geo_json_e31bcc242f1bfa1016e106a0684f2318_onEachFeature(feature, layer) {\n",
       "            layer.on({\n",
       "                mouseout: function(e) {\n",
       "                    if(typeof e.target.setStyle === &quot;function&quot;){\n",
       "                        geo_json_e31bcc242f1bfa1016e106a0684f2318.resetStyle(e.target);\n",
       "                    }\n",
       "                },\n",
       "                mouseover: function(e) {\n",
       "                    if(typeof e.target.setStyle === &quot;function&quot;){\n",
       "                        const highlightStyle = geo_json_e31bcc242f1bfa1016e106a0684f2318_highlighter(e.target.feature)\n",
       "                        e.target.setStyle(highlightStyle);\n",
       "                    }\n",
       "                },\n",
       "            });\n",
       "        };\n",
       "        var geo_json_e31bcc242f1bfa1016e106a0684f2318 = L.geoJson(null, {\n",
       "                onEachFeature: geo_json_e31bcc242f1bfa1016e106a0684f2318_onEachFeature,\n",
       "            \n",
       "                style: geo_json_e31bcc242f1bfa1016e106a0684f2318_styler,\n",
       "        });\n",
       "\n",
       "        function geo_json_e31bcc242f1bfa1016e106a0684f2318_add (data) {\n",
       "            geo_json_e31bcc242f1bfa1016e106a0684f2318\n",
       "                .addData(data)\n",
       "                .addTo(map_87dbcf18772ebf01078e3cfea3cde235);\n",
       "        }\n",
       "            geo_json_e31bcc242f1bfa1016e106a0684f2318_add({&quot;crs&quot;: {&quot;properties&quot;: {&quot;name&quot;: &quot;urn:ogc:def:crs:OGC:1.3:CRS84&quot;}, &quot;type&quot;: &quot;name&quot;}, &quot;features&quot;: [{&quot;geometry&quot;: {&quot;coordinates&quot;: [[36.226, 36.014], [36.226, 38.014], [38.226, 38.014], [38.226, 36.014], [36.226, 36.014]], &quot;type&quot;: &quot;LineString&quot;}, &quot;id&quot;: &quot;0&quot;, &quot;properties&quot;: {}, &quot;type&quot;: &quot;Feature&quot;}], &quot;type&quot;: &quot;FeatureCollection&quot;});\n",
       "\n",
       "        \n",
       "    \n",
       "    geo_json_e31bcc242f1bfa1016e106a0684f2318.bindTooltip(\n",
       "    function(layer){\n",
       "    let div = L.DomUtil.create(&#x27;div&#x27;);\n",
       "    \n",
       "    return div\n",
       "    }\n",
       "    ,{&quot;className&quot;: &quot;foliumtooltip&quot;, &quot;sticky&quot;: true});\n",
       "                     \n",
       "    \n",
       "            var layer_control_03d03c9bc0aff05ccce35d23f1bb31f8 = {\n",
       "                base_layers : {\n",
       "                    &quot;openstreetmap&quot; : tile_layer_816162f0a9d26c5c409fc0e47813064b,\n",
       "                },\n",
       "                overlays :  {\n",
       "                    &quot;Footprints&quot; : geo_json_e31bcc242f1bfa1016e106a0684f2318,\n",
       "                },\n",
       "            };\n",
       "            L.control.layers(\n",
       "                layer_control_03d03c9bc0aff05ccce35d23f1bb31f8.base_layers,\n",
       "                layer_control_03d03c9bc0aff05ccce35d23f1bb31f8.overlays,\n",
       "                {&quot;autoZIndex&quot;: true, &quot;collapsed&quot;: true, &quot;position&quot;: &quot;topright&quot;}\n",
       "            ).addTo(map_87dbcf18772ebf01078e3cfea3cde235);\n",
       "        \n",
       "&lt;/script&gt;\n",
       "&lt;/html&gt;\" width=\"100%\" height=\"600\"style=\"border:none !important;\" \"allowfullscreen\" \"webkitallowfullscreen\" \"mozallowfullscreen\"></iframe>"
      ],
      "text/plain": [
       "<leafmap.foliumap.Map at 0x7fa63cc60c70>"
      ]
     },
     "execution_count": 12,
     "metadata": {},
     "output_type": "execute_result"
    }
   ],
   "source": [
    "# Visualize Area of Interest\n",
    "m = leafmap.Map(center=[36.844461, 37.386475], zoom=8)\n",
    "m.add_geojson(\"output/polygon.geojson\", layer_name=\"Footprints\")\n",
    "m"
   ]
  },
  {
   "cell_type": "code",
   "execution_count": 13,
   "id": "5f9fc165-58fa-4ed9-b2ab-88c89450af73",
   "metadata": {
    "tags": []
   },
   "outputs": [
    {
     "name": "stdout",
     "output_type": "stream",
     "text": [
      "https://sentinel-cogs.s3.us-west-2.amazonaws.com/sentinel-s2-l2a-cogs/36/S/YE/2023/2/S2A_36SYE_20230209_0_L2A/TCI.tif\n",
      "https://sentinel-cogs.s3.us-west-2.amazonaws.com/sentinel-s2-l2a-cogs/37/S/BV/2023/2/S2A_37SBV_20230209_0_L2A/TCI.tif\n",
      "https://sentinel-cogs.s3.us-west-2.amazonaws.com/sentinel-s2-l2a-cogs/37/S/CV/2023/2/S2A_37SCV_20230209_0_L2A/TCI.tif\n",
      "https://sentinel-cogs.s3.us-west-2.amazonaws.com/sentinel-s2-l2a-cogs/36/S/YF/2023/2/S2A_36SYF_20230209_0_L2A/TCI.tif\n",
      "https://sentinel-cogs.s3.us-west-2.amazonaws.com/sentinel-s2-l2a-cogs/37/S/DV/2023/2/S2A_37SDV_20230209_0_L2A/TCI.tif\n",
      "https://sentinel-cogs.s3.us-west-2.amazonaws.com/sentinel-s2-l2a-cogs/37/S/BA/2023/2/S2A_37SBA_20230209_0_L2A/TCI.tif\n",
      "https://sentinel-cogs.s3.us-west-2.amazonaws.com/sentinel-s2-l2a-cogs/37/S/CA/2023/2/S2A_37SCA_20230209_0_L2A/TCI.tif\n",
      "https://sentinel-cogs.s3.us-west-2.amazonaws.com/sentinel-s2-l2a-cogs/37/S/DA/2023/2/S2A_37SDA_20230209_0_L2A/TCI.tif\n",
      "https://sentinel-cogs.s3.us-west-2.amazonaws.com/sentinel-s2-l2a-cogs/36/S/YG/2023/2/S2A_36SYG_20230209_0_L2A/TCI.tif\n",
      "https://sentinel-cogs.s3.us-west-2.amazonaws.com/sentinel-s2-l2a-cogs/37/S/BB/2023/2/S2A_37SBB_20230209_0_L2A/TCI.tif\n",
      "https://sentinel-cogs.s3.us-west-2.amazonaws.com/sentinel-s2-l2a-cogs/37/S/CB/2023/2/S2A_37SCB_20230209_0_L2A/TCI.tif\n",
      "https://sentinel-cogs.s3.us-west-2.amazonaws.com/sentinel-s2-l2a-cogs/37/S/DB/2023/2/S2A_37SDB_20230209_0_L2A/TCI.tif\n",
      "https://sentinel-cogs.s3.us-west-2.amazonaws.com/sentinel-s2-l2a-cogs/37/S/BC/2023/2/S2A_37SBC_20230209_0_L2A/TCI.tif\n",
      "https://sentinel-cogs.s3.us-west-2.amazonaws.com/sentinel-s2-l2a-cogs/37/S/CC/2023/2/S2A_37SCC_20230209_0_L2A/TCI.tif\n",
      "https://sentinel-cogs.s3.us-west-2.amazonaws.com/sentinel-s2-l2a-cogs/37/S/DC/2023/2/S2A_37SDC_20230209_0_L2A/TCI.tif\n",
      "https://sentinel-cogs.s3.us-west-2.amazonaws.com/sentinel-s2-l2a-cogs/37/S/CV/2023/1/S2A_37SCV_20230127_0_L2A/TCI.tif\n",
      "https://sentinel-cogs.s3.us-west-2.amazonaws.com/sentinel-s2-l2a-cogs/37/S/DV/2023/1/S2A_37SDV_20230127_0_L2A/TCI.tif\n",
      "https://sentinel-cogs.s3.us-west-2.amazonaws.com/sentinel-s2-l2a-cogs/37/S/CA/2023/1/S2A_37SCA_20230127_0_L2A/TCI.tif\n",
      "https://sentinel-cogs.s3.us-west-2.amazonaws.com/sentinel-s2-l2a-cogs/37/S/DA/2023/1/S2A_37SDA_20230127_0_L2A/TCI.tif\n",
      "https://sentinel-cogs.s3.us-west-2.amazonaws.com/sentinel-s2-l2a-cogs/37/S/CB/2023/1/S2A_37SCB_20230127_0_L2A/TCI.tif\n",
      "https://sentinel-cogs.s3.us-west-2.amazonaws.com/sentinel-s2-l2a-cogs/37/S/DB/2023/1/S2A_37SDB_20230127_0_L2A/TCI.tif\n"
     ]
    }
   ],
   "source": [
    "# Query Data Collection\n",
    "sentinel2_arn = \"arn:aws:sagemaker-geospatial:us-west-2:378778860802:raster-data-collection/public/nmqj48dcu3g7ayw8\"\n",
    "search_rdc_args = {\n",
    "    \"Arn\": sentinel2_arn,\n",
    "    \"RasterDataCollectionQuery\": {\n",
    "        \"AreaOfInterest\": {\n",
    "            \"AreaOfInterestGeometry\": {\n",
    "                \"PolygonGeometry\": {\n",
    "                    \"Coordinates\": [\n",
    "                        [\n",
    "                            [xmin,ymin],\n",
    "                            [xmin,ymax],\n",
    "                            [xmax,ymax],\n",
    "                            [xmax,ymin],\n",
    "                            [xmin,ymin]\n",
    "                        ]\n",
    "                    ]\n",
    "                }\n",
    "            }\n",
    "        },\n",
    "        \"TimeRangeFilter\": {\n",
    "            \"StartTime\": startTime,\n",
    "            \"EndTime\": endTime,\n",
    "        },\n",
    "        \"PropertyFilters\": {\n",
    "            \"Properties\": [{\"Property\": {\"EoCloudCover\": {\"LowerBound\": 0, \"UpperBound\": 10}}}],\n",
    "            \"LogicalOperator\": \"AND\",\n",
    "        },\n",
    "        #\"BandFilter\": [\"visual\"],\n",
    "    },\n",
    "}\n",
    "\n",
    "# Identify relevant iamge URLs using search_raster_data_collection()\n",
    "tci_urls = []\n",
    "data_manifests = []\n",
    "while search_rdc_args.get(\"NextToken\", True):\n",
    "    search_result = sg_client.search_raster_data_collection(**search_rdc_args)\n",
    "    if search_result.get(\"NextToken\"):\n",
    "        data_manifests.append(search_result)\n",
    "    for item in search_result[\"Items\"]:\n",
    "        tci_url = item[\"Assets\"][\"visual\"][\"Href\"]\n",
    "        print(tci_url)\n",
    "        tci_urls.append(tci_url)\n",
    "\n",
    "    search_rdc_args[\"NextToken\"] = search_result.get(\"NextToken\")\n"
   ]
  },
  {
   "cell_type": "code",
   "execution_count": 14,
   "id": "2f54283f-99a8-4efa-aa29-8ecbfcdba193",
   "metadata": {
    "tags": []
   },
   "outputs": [
    {
     "data": {
      "text/plain": [
       "21"
      ]
     },
     "execution_count": 14,
     "metadata": {},
     "output_type": "execute_result"
    }
   ],
   "source": [
    "len(tci_urls)"
   ]
  },
  {
   "cell_type": "markdown",
   "id": "49872250-ade9-49c6-aa28-811cde44481d",
   "metadata": {
    "tags": []
   },
   "source": [
    "## Cloud Removal Job"
   ]
  },
  {
   "cell_type": "code",
   "execution_count": 15,
   "id": "06afb8f2-d18f-44a5-89e0-a95cf3fef33e",
   "metadata": {
    "tags": []
   },
   "outputs": [],
   "source": [
    "# Print job status helper function\n",
    "def printJobStatus(job_arn):\n",
    "    job_details = sg_client.get_earth_observation_job(Arn=job_arn)\n",
    "    {print(k,\": \",v) for k, v in job_details.items() if k in [\"Arn\", \"Status\", \"DurationInSeconds\"]}"
   ]
  },
  {
   "cell_type": "code",
   "execution_count": 102,
   "id": "0afefd72-a497-45d2-9d15-d3cd7066b4d9",
   "metadata": {
    "tags": []
   },
   "outputs": [],
   "source": [
    "# Perform Cloud Removal\n",
    "eoj_input_config = {\n",
    "    \"RasterDataCollectionQuery\": {\n",
    "        \"RasterDataCollectionArn\": \"arn:aws:sagemaker-geospatial:us-west-2:378778860802:raster-data-collection/public/nmqj48dcu3g7ayw8\",\n",
    "        \"AreaOfInterest\": {\n",
    "            \"AreaOfInterestGeometry\": {\n",
    "                \"PolygonGeometry\": {\n",
    "                    \"Coordinates\": [\n",
    "                        [\n",
    "                            [xmin,ymin],\n",
    "                            [xmin,ymax],\n",
    "                            [xmax,ymax],\n",
    "                            [xmax,ymin],\n",
    "                            [xmin,ymin]\n",
    "                        ]\n",
    "                    ]\n",
    "                }\n",
    "            }\n",
    "        },\n",
    "        \"TimeRangeFilter\": {\n",
    "            \"StartTime\": endTimeSOD,\n",
    "            \"EndTime\": endTime,\n",
    "        },\n",
    "        \"PropertyFilters\": {\n",
    "            \"Properties\": [{\"Property\": {\"EoCloudCover\": {\"LowerBound\": 0, \"UpperBound\": 10}}}],\n",
    "            \"LogicalOperator\": \"AND\",\n",
    "        },\n",
    "    }\n",
    "}\n",
    "\n",
    "eoj_config = {\n",
    "        \"CloudRemovalConfig\": {\n",
    "            \"AlgorithmName\": \"INTERPOLATION\",\n",
    "            \"InterpolationValue\": \"-9999\",\n",
    "            \"TargetBands\": [\"red\", \"green\", \"blue\", \"nir\", \"swir16\"],\n",
    "        },\n",
    "}\n",
    "\n",
    "eoj_response = sg_client.start_earth_observation_job(\n",
    "    Name=\"Turkey-earthquake-cloud-removal\",\n",
    "    InputConfig=eoj_input_config,\n",
    "    JobConfig=eoj_config,\n",
    "    ExecutionRoleArn=execution_role,\n",
    ")"
   ]
  },
  {
   "cell_type": "code",
   "execution_count": 117,
   "id": "c8f9bed8-1157-4277-bf21-69b41d74d353",
   "metadata": {
    "tags": []
   },
   "outputs": [
    {
     "name": "stdout",
     "output_type": "stream",
     "text": [
      "Arn :  arn:aws:sagemaker-geospatial:us-west-2:261416220256:earth-observation-job/h2hwyyng88ah\n",
      "DurationInSeconds :  1880\n",
      "Status :  COMPLETED\n"
     ]
    }
   ],
   "source": [
    "eoj_arn_cloud_removal = eoj_response[\"Arn\"]\n",
    "printJobStatus(eoj_arn_cloud_removal)"
   ]
  },
  {
   "cell_type": "markdown",
   "id": "32cfc62b-0e69-423e-a4f2-c75df79a8ebe",
   "metadata": {},
   "source": [
    "## Create before/after mosaics"
   ]
  },
  {
   "cell_type": "code",
   "execution_count": 106,
   "id": "edb8cd14-1669-4339-ae21-f8cd0709fac0",
   "metadata": {
    "tags": []
   },
   "outputs": [],
   "source": [
    "# Create Mosaic on original images (endTime)\n",
    "# Before cloud removal\n",
    "eoj_config_mosaic = {\"GeoMosaicConfig\": {\"AlgorithmName\": \"NEAR\"}}\n",
    "\n",
    "eoj_response_mosaic_before = sg_client.start_earth_observation_job(\n",
    "    Name=\"Turkey-earthquake-mosaic-enddate\",\n",
    "    InputConfig=eoj_input_config,\n",
    "    JobConfig=eoj_config_mosaic,\n",
    "    ExecutionRoleArn=execution_role,\n",
    ")"
   ]
  },
  {
   "cell_type": "code",
   "execution_count": 115,
   "id": "960ce328-faff-4387-8643-ad4c7ad6447b",
   "metadata": {
    "tags": []
   },
   "outputs": [
    {
     "name": "stdout",
     "output_type": "stream",
     "text": [
      "Arn :  arn:aws:sagemaker-geospatial:us-west-2:261416220256:earth-observation-job/uj8c7hwn88f6\n",
      "DurationInSeconds :  1031\n",
      "Status :  IN_PROGRESS\n"
     ]
    }
   ],
   "source": [
    "eoj_arn_mosaic_before = eoj_response_mosaic_before[\"Arn\"]\n",
    "printJobStatus()"
   ]
  },
  {
   "cell_type": "code",
   "execution_count": 118,
   "id": "b3a0edc0-2089-4ec4-ad57-22d28997017f",
   "metadata": {
    "tags": []
   },
   "outputs": [],
   "source": [
    "# Create Mosaic on transformed images (endTime)\n",
    "# After cloud removal\n",
    "eoj_response_mosaic_after = sg_client.start_earth_observation_job(\n",
    "    Name=\"Turkey-earthquake-mosaic-enddate-clouds-removed\",\n",
    "    InputConfig = {\"PreviousEarthObservationJobArn\": eoj_arn_cloud_removal},\n",
    "    JobConfig=eoj_config_mosaic,\n",
    "    ExecutionRoleArn=execution_role,\n",
    ")"
   ]
  },
  {
   "cell_type": "code",
   "execution_count": 120,
   "id": "e54647f8-3114-43fb-b033-b4b96590e970",
   "metadata": {
    "tags": []
   },
   "outputs": [
    {
     "name": "stdout",
     "output_type": "stream",
     "text": [
      "Arn :  arn:aws:sagemaker-geospatial:us-west-2:261416220256:earth-observation-job/twe8xgv74kv4\n",
      "DurationInSeconds :  65\n",
      "Status :  IN_PROGRESS\n"
     ]
    }
   ],
   "source": [
    "printJobStatus(eoj_response_mosaic_after[\"Arn\"])"
   ]
  },
  {
   "cell_type": "markdown",
   "id": "18e49c8b-dd06-4a1c-8b99-795ad4843454",
   "metadata": {
    "tags": []
   },
   "source": [
    " ## Visualize Cloud Removal Results"
   ]
  },
  {
   "cell_type": "code",
   "execution_count": 131,
   "id": "b751c769-8e14-48f6-8a05-0c2d1fd0f8e4",
   "metadata": {
    "tags": []
   },
   "outputs": [],
   "source": [
    "time_range_filter = {\n",
    "    \"start_date\": endTimeSOD,\n",
    "    \"end_date\": endTime,\n",
    "}"
   ]
  },
  {
   "cell_type": "code",
   "execution_count": 320,
   "id": "585cc996-b874-40d8-b232-5b704fdea867",
   "metadata": {
    "tags": []
   },
   "outputs": [
    {
     "data": {
      "application/vnd.jupyter.widget-view+json": {
       "model_id": "58daabb7503b4690a2f3239901060a4b",
       "version_major": 2,
       "version_minor": 0
      },
      "text/plain": [
       "SyncWidgetMap(raster={'stacSearchUrl': AnyHttpUrl('https://domain-name/raster', )}, style={'height': '100%', '…"
      ]
     },
     "metadata": {},
     "output_type": "display_data"
    }
   ],
   "source": [
    "# Visualize EOJ inputs and outputs\n",
    "map = sagemaker_geospatial_map.create_map({\"is_raster\": True})\n",
    "map.set_sagemaker_geospatial_client(sg_client)\n",
    "# Render the map\n",
    "map.render()"
   ]
  },
  {
   "cell_type": "code",
   "execution_count": 322,
   "id": "2f97ded3-5bc8-4709-9d1d-78d96e4e0f6b",
   "metadata": {
    "tags": []
   },
   "outputs": [],
   "source": [
    "# Visualize AOI\n",
    "#eoj_arn_mosaic_before\n",
    "aoi_layer = map.visualize_eoj_aoi(Arn=eoj_arn, config={\"label\": \"Area of Interest\"})"
   ]
  },
  {
   "cell_type": "code",
   "execution_count": 328,
   "id": "0628919c-bfa1-4249-810d-d337039d4218",
   "metadata": {
    "tags": []
   },
   "outputs": [],
   "source": [
    "# Visualize input\n",
    "input_layer = map.visualize_eoj_input(\n",
    "    Arn = eoj_arn,\n",
    "    config = {\"label\": \"Input\"},\n",
    "    time_range_filter = time_range_filter\n",
    ")"
   ]
  },
  {
   "cell_type": "code",
   "execution_count": 330,
   "id": "4416b981-64ae-41d8-b1db-6ea387592d38",
   "metadata": {
    "tags": []
   },
   "outputs": [],
   "source": [
    "output_layer = map.visualize_eoj_output(\n",
    "    Arn = eoj_arn_cloud_removal,\n",
    "    config = {\"label\": \"output\", \"preset\":\"trueColor\"},\n",
    "    time_range_filter = time_range_filter\n",
    ")"
   ]
  },
  {
   "cell_type": "code",
   "execution_count": null,
   "id": "a73588ef-7f0c-42fb-aee3-f0f76bdb84a7",
   "metadata": {},
   "outputs": [],
   "source": []
  }
 ],
 "metadata": {
  "availableInstances": [
   {
    "_defaultOrder": 0,
    "_isFastLaunch": true,
    "category": "General purpose",
    "gpuNum": 0,
    "hideHardwareSpecs": false,
    "memoryGiB": 4,
    "name": "ml.t3.medium",
    "vcpuNum": 2
   },
   {
    "_defaultOrder": 1,
    "_isFastLaunch": false,
    "category": "General purpose",
    "gpuNum": 0,
    "hideHardwareSpecs": false,
    "memoryGiB": 8,
    "name": "ml.t3.large",
    "vcpuNum": 2
   },
   {
    "_defaultOrder": 2,
    "_isFastLaunch": false,
    "category": "General purpose",
    "gpuNum": 0,
    "hideHardwareSpecs": false,
    "memoryGiB": 16,
    "name": "ml.t3.xlarge",
    "vcpuNum": 4
   },
   {
    "_defaultOrder": 3,
    "_isFastLaunch": false,
    "category": "General purpose",
    "gpuNum": 0,
    "hideHardwareSpecs": false,
    "memoryGiB": 32,
    "name": "ml.t3.2xlarge",
    "vcpuNum": 8
   },
   {
    "_defaultOrder": 4,
    "_isFastLaunch": true,
    "category": "General purpose",
    "gpuNum": 0,
    "hideHardwareSpecs": false,
    "memoryGiB": 8,
    "name": "ml.m5.large",
    "vcpuNum": 2
   },
   {
    "_defaultOrder": 5,
    "_isFastLaunch": false,
    "category": "General purpose",
    "gpuNum": 0,
    "hideHardwareSpecs": false,
    "memoryGiB": 16,
    "name": "ml.m5.xlarge",
    "vcpuNum": 4
   },
   {
    "_defaultOrder": 6,
    "_isFastLaunch": false,
    "category": "General purpose",
    "gpuNum": 0,
    "hideHardwareSpecs": false,
    "memoryGiB": 32,
    "name": "ml.m5.2xlarge",
    "vcpuNum": 8
   },
   {
    "_defaultOrder": 7,
    "_isFastLaunch": false,
    "category": "General purpose",
    "gpuNum": 0,
    "hideHardwareSpecs": false,
    "memoryGiB": 64,
    "name": "ml.m5.4xlarge",
    "vcpuNum": 16
   },
   {
    "_defaultOrder": 8,
    "_isFastLaunch": false,
    "category": "General purpose",
    "gpuNum": 0,
    "hideHardwareSpecs": false,
    "memoryGiB": 128,
    "name": "ml.m5.8xlarge",
    "vcpuNum": 32
   },
   {
    "_defaultOrder": 9,
    "_isFastLaunch": false,
    "category": "General purpose",
    "gpuNum": 0,
    "hideHardwareSpecs": false,
    "memoryGiB": 192,
    "name": "ml.m5.12xlarge",
    "vcpuNum": 48
   },
   {
    "_defaultOrder": 10,
    "_isFastLaunch": false,
    "category": "General purpose",
    "gpuNum": 0,
    "hideHardwareSpecs": false,
    "memoryGiB": 256,
    "name": "ml.m5.16xlarge",
    "vcpuNum": 64
   },
   {
    "_defaultOrder": 11,
    "_isFastLaunch": false,
    "category": "General purpose",
    "gpuNum": 0,
    "hideHardwareSpecs": false,
    "memoryGiB": 384,
    "name": "ml.m5.24xlarge",
    "vcpuNum": 96
   },
   {
    "_defaultOrder": 12,
    "_isFastLaunch": false,
    "category": "General purpose",
    "gpuNum": 0,
    "hideHardwareSpecs": false,
    "memoryGiB": 8,
    "name": "ml.m5d.large",
    "vcpuNum": 2
   },
   {
    "_defaultOrder": 13,
    "_isFastLaunch": false,
    "category": "General purpose",
    "gpuNum": 0,
    "hideHardwareSpecs": false,
    "memoryGiB": 16,
    "name": "ml.m5d.xlarge",
    "vcpuNum": 4
   },
   {
    "_defaultOrder": 14,
    "_isFastLaunch": false,
    "category": "General purpose",
    "gpuNum": 0,
    "hideHardwareSpecs": false,
    "memoryGiB": 32,
    "name": "ml.m5d.2xlarge",
    "vcpuNum": 8
   },
   {
    "_defaultOrder": 15,
    "_isFastLaunch": false,
    "category": "General purpose",
    "gpuNum": 0,
    "hideHardwareSpecs": false,
    "memoryGiB": 64,
    "name": "ml.m5d.4xlarge",
    "vcpuNum": 16
   },
   {
    "_defaultOrder": 16,
    "_isFastLaunch": false,
    "category": "General purpose",
    "gpuNum": 0,
    "hideHardwareSpecs": false,
    "memoryGiB": 128,
    "name": "ml.m5d.8xlarge",
    "vcpuNum": 32
   },
   {
    "_defaultOrder": 17,
    "_isFastLaunch": false,
    "category": "General purpose",
    "gpuNum": 0,
    "hideHardwareSpecs": false,
    "memoryGiB": 192,
    "name": "ml.m5d.12xlarge",
    "vcpuNum": 48
   },
   {
    "_defaultOrder": 18,
    "_isFastLaunch": false,
    "category": "General purpose",
    "gpuNum": 0,
    "hideHardwareSpecs": false,
    "memoryGiB": 256,
    "name": "ml.m5d.16xlarge",
    "vcpuNum": 64
   },
   {
    "_defaultOrder": 19,
    "_isFastLaunch": false,
    "category": "General purpose",
    "gpuNum": 0,
    "hideHardwareSpecs": false,
    "memoryGiB": 384,
    "name": "ml.m5d.24xlarge",
    "vcpuNum": 96
   },
   {
    "_defaultOrder": 20,
    "_isFastLaunch": false,
    "category": "General purpose",
    "gpuNum": 0,
    "hideHardwareSpecs": true,
    "memoryGiB": 0,
    "name": "ml.geospatial.interactive",
    "supportedImageNames": [
     "sagemaker-geospatial-v1-0"
    ],
    "vcpuNum": 0
   },
   {
    "_defaultOrder": 21,
    "_isFastLaunch": true,
    "category": "Compute optimized",
    "gpuNum": 0,
    "hideHardwareSpecs": false,
    "memoryGiB": 4,
    "name": "ml.c5.large",
    "vcpuNum": 2
   },
   {
    "_defaultOrder": 22,
    "_isFastLaunch": false,
    "category": "Compute optimized",
    "gpuNum": 0,
    "hideHardwareSpecs": false,
    "memoryGiB": 8,
    "name": "ml.c5.xlarge",
    "vcpuNum": 4
   },
   {
    "_defaultOrder": 23,
    "_isFastLaunch": false,
    "category": "Compute optimized",
    "gpuNum": 0,
    "hideHardwareSpecs": false,
    "memoryGiB": 16,
    "name": "ml.c5.2xlarge",
    "vcpuNum": 8
   },
   {
    "_defaultOrder": 24,
    "_isFastLaunch": false,
    "category": "Compute optimized",
    "gpuNum": 0,
    "hideHardwareSpecs": false,
    "memoryGiB": 32,
    "name": "ml.c5.4xlarge",
    "vcpuNum": 16
   },
   {
    "_defaultOrder": 25,
    "_isFastLaunch": false,
    "category": "Compute optimized",
    "gpuNum": 0,
    "hideHardwareSpecs": false,
    "memoryGiB": 72,
    "name": "ml.c5.9xlarge",
    "vcpuNum": 36
   },
   {
    "_defaultOrder": 26,
    "_isFastLaunch": false,
    "category": "Compute optimized",
    "gpuNum": 0,
    "hideHardwareSpecs": false,
    "memoryGiB": 96,
    "name": "ml.c5.12xlarge",
    "vcpuNum": 48
   },
   {
    "_defaultOrder": 27,
    "_isFastLaunch": false,
    "category": "Compute optimized",
    "gpuNum": 0,
    "hideHardwareSpecs": false,
    "memoryGiB": 144,
    "name": "ml.c5.18xlarge",
    "vcpuNum": 72
   },
   {
    "_defaultOrder": 28,
    "_isFastLaunch": false,
    "category": "Compute optimized",
    "gpuNum": 0,
    "hideHardwareSpecs": false,
    "memoryGiB": 192,
    "name": "ml.c5.24xlarge",
    "vcpuNum": 96
   },
   {
    "_defaultOrder": 29,
    "_isFastLaunch": true,
    "category": "Accelerated computing",
    "gpuNum": 1,
    "hideHardwareSpecs": false,
    "memoryGiB": 16,
    "name": "ml.g4dn.xlarge",
    "vcpuNum": 4
   },
   {
    "_defaultOrder": 30,
    "_isFastLaunch": false,
    "category": "Accelerated computing",
    "gpuNum": 1,
    "hideHardwareSpecs": false,
    "memoryGiB": 32,
    "name": "ml.g4dn.2xlarge",
    "vcpuNum": 8
   },
   {
    "_defaultOrder": 31,
    "_isFastLaunch": false,
    "category": "Accelerated computing",
    "gpuNum": 1,
    "hideHardwareSpecs": false,
    "memoryGiB": 64,
    "name": "ml.g4dn.4xlarge",
    "vcpuNum": 16
   },
   {
    "_defaultOrder": 32,
    "_isFastLaunch": false,
    "category": "Accelerated computing",
    "gpuNum": 1,
    "hideHardwareSpecs": false,
    "memoryGiB": 128,
    "name": "ml.g4dn.8xlarge",
    "vcpuNum": 32
   },
   {
    "_defaultOrder": 33,
    "_isFastLaunch": false,
    "category": "Accelerated computing",
    "gpuNum": 4,
    "hideHardwareSpecs": false,
    "memoryGiB": 192,
    "name": "ml.g4dn.12xlarge",
    "vcpuNum": 48
   },
   {
    "_defaultOrder": 34,
    "_isFastLaunch": false,
    "category": "Accelerated computing",
    "gpuNum": 1,
    "hideHardwareSpecs": false,
    "memoryGiB": 256,
    "name": "ml.g4dn.16xlarge",
    "vcpuNum": 64
   },
   {
    "_defaultOrder": 35,
    "_isFastLaunch": false,
    "category": "Accelerated computing",
    "gpuNum": 1,
    "hideHardwareSpecs": false,
    "memoryGiB": 61,
    "name": "ml.p3.2xlarge",
    "vcpuNum": 8
   },
   {
    "_defaultOrder": 36,
    "_isFastLaunch": false,
    "category": "Accelerated computing",
    "gpuNum": 4,
    "hideHardwareSpecs": false,
    "memoryGiB": 244,
    "name": "ml.p3.8xlarge",
    "vcpuNum": 32
   },
   {
    "_defaultOrder": 37,
    "_isFastLaunch": false,
    "category": "Accelerated computing",
    "gpuNum": 8,
    "hideHardwareSpecs": false,
    "memoryGiB": 488,
    "name": "ml.p3.16xlarge",
    "vcpuNum": 64
   },
   {
    "_defaultOrder": 38,
    "_isFastLaunch": false,
    "category": "Accelerated computing",
    "gpuNum": 8,
    "hideHardwareSpecs": false,
    "memoryGiB": 768,
    "name": "ml.p3dn.24xlarge",
    "vcpuNum": 96
   },
   {
    "_defaultOrder": 39,
    "_isFastLaunch": false,
    "category": "Memory Optimized",
    "gpuNum": 0,
    "hideHardwareSpecs": false,
    "memoryGiB": 16,
    "name": "ml.r5.large",
    "vcpuNum": 2
   },
   {
    "_defaultOrder": 40,
    "_isFastLaunch": false,
    "category": "Memory Optimized",
    "gpuNum": 0,
    "hideHardwareSpecs": false,
    "memoryGiB": 32,
    "name": "ml.r5.xlarge",
    "vcpuNum": 4
   },
   {
    "_defaultOrder": 41,
    "_isFastLaunch": false,
    "category": "Memory Optimized",
    "gpuNum": 0,
    "hideHardwareSpecs": false,
    "memoryGiB": 64,
    "name": "ml.r5.2xlarge",
    "vcpuNum": 8
   },
   {
    "_defaultOrder": 42,
    "_isFastLaunch": false,
    "category": "Memory Optimized",
    "gpuNum": 0,
    "hideHardwareSpecs": false,
    "memoryGiB": 128,
    "name": "ml.r5.4xlarge",
    "vcpuNum": 16
   },
   {
    "_defaultOrder": 43,
    "_isFastLaunch": false,
    "category": "Memory Optimized",
    "gpuNum": 0,
    "hideHardwareSpecs": false,
    "memoryGiB": 256,
    "name": "ml.r5.8xlarge",
    "vcpuNum": 32
   },
   {
    "_defaultOrder": 44,
    "_isFastLaunch": false,
    "category": "Memory Optimized",
    "gpuNum": 0,
    "hideHardwareSpecs": false,
    "memoryGiB": 384,
    "name": "ml.r5.12xlarge",
    "vcpuNum": 48
   },
   {
    "_defaultOrder": 45,
    "_isFastLaunch": false,
    "category": "Memory Optimized",
    "gpuNum": 0,
    "hideHardwareSpecs": false,
    "memoryGiB": 512,
    "name": "ml.r5.16xlarge",
    "vcpuNum": 64
   },
   {
    "_defaultOrder": 46,
    "_isFastLaunch": false,
    "category": "Memory Optimized",
    "gpuNum": 0,
    "hideHardwareSpecs": false,
    "memoryGiB": 768,
    "name": "ml.r5.24xlarge",
    "vcpuNum": 96
   },
   {
    "_defaultOrder": 47,
    "_isFastLaunch": false,
    "category": "Accelerated computing",
    "gpuNum": 1,
    "hideHardwareSpecs": false,
    "memoryGiB": 16,
    "name": "ml.g5.xlarge",
    "vcpuNum": 4
   },
   {
    "_defaultOrder": 48,
    "_isFastLaunch": false,
    "category": "Accelerated computing",
    "gpuNum": 1,
    "hideHardwareSpecs": false,
    "memoryGiB": 32,
    "name": "ml.g5.2xlarge",
    "vcpuNum": 8
   },
   {
    "_defaultOrder": 49,
    "_isFastLaunch": false,
    "category": "Accelerated computing",
    "gpuNum": 1,
    "hideHardwareSpecs": false,
    "memoryGiB": 64,
    "name": "ml.g5.4xlarge",
    "vcpuNum": 16
   },
   {
    "_defaultOrder": 50,
    "_isFastLaunch": false,
    "category": "Accelerated computing",
    "gpuNum": 1,
    "hideHardwareSpecs": false,
    "memoryGiB": 128,
    "name": "ml.g5.8xlarge",
    "vcpuNum": 32
   },
   {
    "_defaultOrder": 51,
    "_isFastLaunch": false,
    "category": "Accelerated computing",
    "gpuNum": 1,
    "hideHardwareSpecs": false,
    "memoryGiB": 256,
    "name": "ml.g5.16xlarge",
    "vcpuNum": 64
   },
   {
    "_defaultOrder": 52,
    "_isFastLaunch": false,
    "category": "Accelerated computing",
    "gpuNum": 4,
    "hideHardwareSpecs": false,
    "memoryGiB": 192,
    "name": "ml.g5.12xlarge",
    "vcpuNum": 48
   },
   {
    "_defaultOrder": 53,
    "_isFastLaunch": false,
    "category": "Accelerated computing",
    "gpuNum": 4,
    "hideHardwareSpecs": false,
    "memoryGiB": 384,
    "name": "ml.g5.24xlarge",
    "vcpuNum": 96
   },
   {
    "_defaultOrder": 54,
    "_isFastLaunch": false,
    "category": "Accelerated computing",
    "gpuNum": 8,
    "hideHardwareSpecs": false,
    "memoryGiB": 768,
    "name": "ml.g5.48xlarge",
    "vcpuNum": 192
   }
  ],
  "instance_type": "ml.geospatial.interactive",
  "kernelspec": {
   "display_name": "Python 3 (Geospatial 1.0)",
   "language": "python",
   "name": "python3__SAGEMAKER_INTERNAL__arn:aws:sagemaker:us-west-2:081189585635:image/sagemaker-geospatial-v1-0"
  },
  "language_info": {
   "codemirror_mode": {
    "name": "ipython",
    "version": 3
   },
   "file_extension": ".py",
   "mimetype": "text/x-python",
   "name": "python",
   "nbconvert_exporter": "python",
   "pygments_lexer": "ipython3",
   "version": "3.10.4"
  }
 },
 "nbformat": 4,
 "nbformat_minor": 5
}
